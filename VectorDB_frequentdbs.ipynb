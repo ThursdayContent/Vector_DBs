{
 "cells": [
  {
   "cell_type": "code",
   "execution_count": 1,
   "id": "7f11a2a9",
   "metadata": {},
   "outputs": [],
   "source": [
    "import PyPDF2\n",
    "import faiss\n",
    "import pdfreader\n",
    "from PyPDF2 import PdfReader\n",
    "import pandas as pd\n",
    "\n",
    "from langchain.text_splitter import CharacterTextSplitter\n",
    "from langchain.vectorstores import FAISS, VectorStore\n",
    "import openai\n",
    "from langchain.embeddings import OpenAIEmbeddings\n",
    "from langchain.chains.question_answering import load_qa_chain\n",
    "from langchain.llms import OpenAI\n",
    "from openai.embeddings_utils import get_embedding, cosine_similarity"
   ]
  },
  {
   "cell_type": "code",
   "execution_count": 2,
   "id": "91fc337e",
   "metadata": {},
   "outputs": [],
   "source": [
    "doc = PdfReader(r\"creditcard1.pdf\")"
   ]
  },
  {
   "cell_type": "code",
   "execution_count": 3,
   "id": "15878e21",
   "metadata": {},
   "outputs": [
    {
     "name": "stdout",
     "output_type": "stream",
     "text": [
      "18933\n"
     ]
    }
   ],
   "source": [
    "raw_text = \" \"\n",
    "for i, page in enumerate(doc.pages):\n",
    "    text = page.extract_text()\n",
    "    if text:\n",
    "        raw_text +=text\n",
    "        \n",
    "print(len(raw_text))"
   ]
  },
  {
   "cell_type": "code",
   "execution_count": 4,
   "id": "f9e61ae2",
   "metadata": {},
   "outputs": [],
   "source": [
    "text_splitter = CharacterTextSplitter(\n",
    "    separator= \"\\n\\n\",\n",
    "    chunk_size = 1000,\n",
    "    chunk_overlap = 200,\n",
    "    length_function = len)\n",
    "\n",
    "texts = text_splitter.split_text(raw_text)"
   ]
  },
  {
   "cell_type": "code",
   "execution_count": 5,
   "id": "683c773e",
   "metadata": {},
   "outputs": [],
   "source": [
    "import re\n",
    "\n",
    "def clean_text_format(s, sep_token = \" \\n\"):\n",
    "    s = re.sub(r\"\\s+\", \" \", s).strip()\n",
    "    s = re.sub(r\". ,\", \" \", s)\n",
    "    s = s.replace(\". .\", \".\")\n",
    "    s = s.replace(\"..\", \".\")\n",
    "    s = s.replace(\"\\n\", \" \")\n",
    "    s = s.strip()\n",
    "    return s\n",
    "\n",
    "texts = list(map(clean_text_format, texts))"
   ]
  },
  {
   "cell_type": "code",
   "execution_count": 6,
   "id": "d4c3e179",
   "metadata": {},
   "outputs": [],
   "source": [
    "with open(\"clean_text.txt\", \"w\") as f:\n",
    "    for line in texts:\n",
    "        f.write(f\"{line}\\n\")"
   ]
  },
  {
   "cell_type": "code",
   "execution_count": 7,
   "id": "a3a6ac37",
   "metadata": {},
   "outputs": [],
   "source": [
    "query1 = \"What is billing cycle\"\n",
    "query2 = \"What is dual branding\"\n",
    "embeddings = OpenAIEmbeddings()"
   ]
  },
  {
   "cell_type": "markdown",
   "id": "253ee672",
   "metadata": {},
   "source": [
    "#### Sample embeddings"
   ]
  },
  {
   "cell_type": "code",
   "execution_count": 8,
   "id": "15c63a0e",
   "metadata": {},
   "outputs": [
    {
     "data": {
      "text/plain": [
       "0.8340266372173663"
      ]
     },
     "execution_count": 8,
     "metadata": {},
     "output_type": "execute_result"
    }
   ],
   "source": [
    "embed1 = get_embedding(\"risk based pricing\", engine = \"text-embedding-ada-002\")\n",
    "embed2 = get_embedding(\"risk ranking applicants\", engine = \"text-embedding-ada-002\")\n",
    "cosine_similarity(embed1, embed2)"
   ]
  },
  {
   "cell_type": "code",
   "execution_count": 9,
   "id": "469c18c2",
   "metadata": {},
   "outputs": [],
   "source": [
    "chain = load_qa_chain(OpenAI(), chain_type=\"stuff\")"
   ]
  },
  {
   "cell_type": "markdown",
   "id": "f584b61d",
   "metadata": {},
   "source": [
    "#### Embeddings from FAISS"
   ]
  },
  {
   "cell_type": "code",
   "execution_count": null,
   "id": "4ad1dd57",
   "metadata": {},
   "outputs": [],
   "source": [
    "db_faiss = FAISS.from_texts(texts, embeddings)"
   ]
  },
  {
   "cell_type": "code",
   "execution_count": null,
   "id": "478d7fef",
   "metadata": {},
   "outputs": [],
   "source": [
    "#### Simple similarity\n",
    "faiss_q1 = db_faiss.similarity_search(query1)"
   ]
  },
  {
   "cell_type": "code",
   "execution_count": null,
   "id": "2fc624ff",
   "metadata": {},
   "outputs": [],
   "source": [
    "print(faiss_q1[0].page_content)"
   ]
  },
  {
   "cell_type": "code",
   "execution_count": null,
   "id": "d13a5024",
   "metadata": {},
   "outputs": [],
   "source": [
    "similar_query1 = db_faiss.similarity_search_with_score(query1)\n",
    "similar_query1"
   ]
  },
  {
   "cell_type": "code",
   "execution_count": null,
   "id": "aed38ebc",
   "metadata": {},
   "outputs": [],
   "source": [
    "faiss_q2 = db_faiss.similarity_search(query2)\n",
    "chain.run(input_documents = faiss_q2, question = query2)"
   ]
  },
  {
   "cell_type": "markdown",
   "id": "1df85c7e",
   "metadata": {},
   "source": [
    "#### Embeddings from Chromadb"
   ]
  },
  {
   "cell_type": "code",
   "execution_count": 19,
   "id": "ae8c56e1",
   "metadata": {},
   "outputs": [],
   "source": [
    "import chromadb\n",
    "from langchain.embeddings.sentence_transformer import SentenceTransformerEmbeddings\n",
    "from langchain.text_splitter import CharacterTextSplitter\n",
    "from langchain.vectorstores import Chroma\n",
    "from langchain.document_loaders import TextLoader"
   ]
  },
  {
   "cell_type": "code",
   "execution_count": 68,
   "id": "29fb8aea",
   "metadata": {},
   "outputs": [],
   "source": [
    "loader = TextLoader(\"clean_text1.txt\")\n",
    "documents = loader.load()\n",
    "\n",
    "#Split into chunks\n",
    "text_splitter = CharacterTextSplitter(chunk_size = 1000, chunk_overlap=0)\n",
    "docs1 = text_splitter.split_documents(documents)"
   ]
  },
  {
   "cell_type": "code",
   "execution_count": 69,
   "id": "89ed475f",
   "metadata": {},
   "outputs": [],
   "source": [
    "embedding_function = SentenceTransformerEmbeddings(model_name= \"all-MiniLM-L6-v2\", )"
   ]
  },
  {
   "cell_type": "markdown",
   "id": "e04260e4",
   "metadata": {},
   "source": [
    "<b2>Sentence Transformer Embedding Performance comparison\n",
    "\n",
    "|Model|Score|Speed|\n",
    "|:----:|:----:|:----:|\n",
    "|multi-qa-MiniLM-L6-cos-v1\t          | 64.33 | 14200|\n",
    "|paraphrase-multilingual-mpnet-base-v2| 65.83 |2500  |\n",
    "|paraphrase-albert-small-v2\t          |64.46|5000    |\n",
    "|paraphrase-multilingual-MiniLM-L12-v2|\t64.25 |7500  |"
   ]
  },
  {
   "cell_type": "code",
   "execution_count": 22,
   "id": "a7b29c95",
   "metadata": {},
   "outputs": [],
   "source": [
    "db_chroma = Chroma.from_documents(docs1, embedding_function)"
   ]
  },
  {
   "cell_type": "code",
   "execution_count": 23,
   "id": "4e9aab02",
   "metadata": {
    "collapsed": true
   },
   "outputs": [
    {
     "name": "stderr",
     "output_type": "stream",
     "text": [
      "Number of requested results 4 is greater than number of elements in index 1, updating n_results = 1\n"
     ]
    },
    {
     "name": "stdout",
     "output_type": "stream",
     "text": [
      "page_content='Risk Management Examination Manual of Credit Card Activities Chapter II II. CREDIT CARDS – GENERAL OVERVIEW WHAT IS A CREDIT CARD In its non-physical form, a credit card repres ents a payment mechanism which facilitates both consumer and commercial business transactions, including purchases and cash advances . A credit card generally operates as a substitute for cash or a check and most often provides an unsecured revolving line of credit. The borrower is required to pay at least part of the card’s outstanding balance each billing cycl  depending on the terms as set forth in the cardholder agreement . As the debt reduces, the available credit increases for accounts in good standing. These complex financial arrangements have ever-shifting terms and prices. A charge card differs from a credit card in that the charge card must be paid in full each month. In physical form, a credit card traditionally is a thi  rectangular plastic card. The front of the card contains a series of numbers that are repres entative of various items such as the applicable network, bank, and account. These numbers are generally referred to in aggregate as the account number or card number. A magnetic stripe, often called a magstripe, runs across the back of the card and contains some of the account’s information electronically. The back of the card also contains a cardholder signature box. There are many other physical attributes to a credit card; however, as technologies progress, their physical form is morphing. For example, multi-application cards (sometimes referred to as smart cards) involve aspects of cryptography (secret codes) and, in place of the magstripe, have a microprocessor, or chip, built into the card. The enhanced memory and processing capacity great ly exceeds that of the traditional magstripe card, and the multi-application cards can enable co nsumers to access several financial accounts and other services or data (like merchant loyalty programs) with a single card. Emerging formats also include contactless and biometric payment options. With the contactless payment format, cards are tapped on readers (instead of swiped) at the point-of-sale. This format is also known as proximity, “tap ‘n go,” or blink technology. The biometric format relies on a cardholder’s physical or biological features by using identificat ion techniques like fingerprint verification, iris scans, or voice scans. Electr onic payment innovations may well be only in their infancy. INDUSTRY HISTORY The credit card lending business experiences rapid change, but not just in the technology environment. New competitors continue to emer ge from not only the banking industry, but from phone companies, retailers and others. At the same time, consolidation among credit card issuers has also increased. For example, during a four-month period in 2005, the three largest monoline credit card banks (MBNA, Capital One Financial Corporation, and Providian) all announced some type of acquisition transactions.1 The credit card industry’s focus has shifted from prestige to merchant acceptance to prici ng and perks. Intense competition, market saturation, and changing consumer postures hav e forced issuers to be innovative with the credit card products offered and to develop sophist icated customer selection and management methods. Processes have evolved to risk ranking applicants and pricing each account accordingly. Risk-based pricing has allowed banks to issue cards to less-qualified applicants in exchange for a higher interest rate or other fees and to essentially offer customized card products. Rewards programs are extremely popular, and credit cards can now be used to purchase items in well over 100 currencies. 1 According to an article entitled “Overview of Recent Devel opments in the Credit Card Industry” found in the November 2005 issue of the FDIC Banking Review and authored by Dougl as Akers, Jay Golter, Brian Lamm, and Martha Solt. March 2007 FDIC- Division of Supervision and Consumer Protection 10Credit Cards – General Overview Visa and MasterCard (together referred to as Associations ) quickly come to mind when the term “credit card” is used. Traditionally banks purch ased memberships in the Associations, and, in return, receive the right to offer credit card products or other services under the applicable Association’s logo.2 In addition to operating worldwide sophisticated payment networks, the Associations provide services including, but not limited to, advertising, statistical analysis, industry studies, and advisory services. They require their member banks to be insured and to operate within certain policies. The Associations do not issue cards or financial services directly to consumers or merchants. Rather, th ey focus on advancing payment products and technologies for their member banks, and the member banks manage the relationships with consumers and merchants. The Associations offer various membership grades, which can be subject to certain requirements, such as capital levels or acceptable growth projections. While the Associations remain the prominent br ands in the bank credit card industry, other brands, such as American Express and Discov er, are challenging their share. Unlike the Associations, American Express and Discover tr aditionally both issued their own cards. While they have long been in the credit card business, they only recently expanded their access within the bank credit card business as a result of cour t rulings in 2004. Those rulings said that the Associations’ policies barring member banks from contracting with American Express and Discover violated antitrust rules. The rulings have not only resulted in some Visa and MasterCard banks now also offering American Express and /or Discover cards, but are also leading to dual-branding . For simplicity, MasterCard, Visa, American Express, and Discover are collectively referred to as Networks in this m anual. The term Networks is used because these companies interconnect a large and widely-distributed group of people and entities to communicate with one another and work together as a system to facilitate card transactions. The system allows for the routing of a transaction’s in formation between the participants in a matter of fractions of a second. Payment systems for credi t cards are discussed in Chapter XIX, Merchant Processing. The legal and regulatory environment for the bank credit card industry continues to shape the industry as well. For instance, in the 1970’s, the U.S. Supreme Court ruled that the lender’s location, not the consumer’s state of residence, determined the applicable state usury ceiling. As a result, large card issuers have sought out states with lender-friendly usury ceilings in which to establish national operations. For example, se veral bank credit card operations are located in South Dakota and Delaware. The 1970’s also saw Congress enact a number of consumer credit protection laws. More recent banking regulatory developments include the issuance of subprime lending guidance in 1999 and 2001 and account management and loss allowance guidance in 2003. 3 Concepts from these documents are discussed throughout this manual. CARD TYPES AND ATTRIBUTES A multitude of credit card products are availabl e to consumers, and the number of products is growing. Terms and conditions of each credit card product offered, such as the Annual Percentage Rate (APR  the monthly minimum payment formula, and certain fees, are detailed in a cardholder agreement which is required by regulation. The following sections provide an overview of some common credit card product categories. 2 MasterCard became a private, SEC-registered share compan y whose shares were owned by the principal members of MasterCard International in 2002, and in May 2006 it announced an initial public offering and began trading on the New York Stock Exchange under the symbol “MA.” 3 March 1, 1999 Interagency Guidance on Subprime Lending (FIL-20-99); January 31, 2001 DSC Memorandum Transmittal Number 01-005 Expanded Guidance for Evaluat ing Subprime Lending Guidance (FIL-9-2001); and January 8, 2003 Account Management and Loss Allowance Guidance for Credit Card Lending (FIL-2-2003). March 2007 FDIC – Division of Supervision and Consumer Protection 11 Risk Management Examination Manual of Credit Card Activities Chapter II General Purpose Credit Cards General purpose, or universal, credit cards can be used at a variety of stores and businesses. They take on many forms, including standard, pr emium, affinity, co-branded, corporate, home equity, and cash secured programs, each of which is briefly described next. Standard Credit Card Programs: Standard credit card programs are a traditional form of credit card issuance. These programs are usually marketed to consumers who meet or exceed the institution’s minimum credit criteria but that may lack sufficient credit history or may fa il to meet some of the institution’s other credit criteria. Due to the higher credit risk and loss rates, these programs generally carry higher interest rates, higher fees, and lower credit limits than premium credit card programs. In addition to cash secured credit cards (discussed la ter), unsecured standard credit card programs are frequently used for providing credit to subprime borrowers. Premium Credit Card Programs: Premium credit card programs tend to be market ed to consumers that have higher income and/or higher credit scores than those consumers offered standard credit cards. Premium programs have traditionally consisted of gold and platinum credit cards. However, some issuers have moved toward using these premium-sounding titles with more standard-type products to combat strong competition and entice consumers to opt fo r their cards. Premium credit card programs usually carry lower interest rates, waived annual fe es, and higher credit limits. The risk with this type of program is a large volume of high-bal ance accounts. Over-reliance on the premium sector creates the potential of greater losses in the event high outstanding balances exist during an economic downturn. Affinity Credit Card Programs: Affinity relationships are partnerships formed between financial institutions and unaffiliated groups (affinity partners), generally nonprofit or ganizations such as, but not limited to, alumni associations, professional organizations, and f an clubs. A contractual agreement governs the relationship with the affinity partner, and the affinity cards issued usually carry the affinity partner’s logo. Compensation varies, but the affinity partner endorsing the card usually receives financial compensation based on the projected leve l of acceptance and use by its members. Compensation often comes in the form of the sharing of annual fees, renewal fees, interchange income, and interest income. Issuers seek affinity endorsements to increase response, usage, and retention rates. Co-branded Credit Card Programs: Co-branded relationships are partnerships formed between finan cial institutions and unaffiliated organizations, generally for-profit organizations such as airlines, automobile manufactures, and retailers. Similar to the affinity program, a contractual agreement governs the co-branded relationship, and the co-branded card usually carries the co-branded partner’s logo. Compensation to the co-branding partner often takes the form of sharing interchange fees and/or rebates to its customers. Rebates to customers are normally based on a percentage of purchases or transactions, and the percent age often varies depending on whether purchases were made with the co-branding party or another entity. The institution benefits from a co- branding arrangement because it generally increase s credit card receivables, and accordingly interest and interchange income, due to the consumers’ willingness to use the credit card more frequently to reap the financial rewards. However, institutions typically face the risk that higher cardholder monthly payment rates could erode profits. Nevertheless, for some programs the considerable volume of interchange income generated by high cardholder transaction volumes might substantially offset the interest income oppo rtunity that is lost with higher payment rates. March 2007 FDIC- Division of Supervision and Consumer Protection 12Credit Cards – General Overview Corporate Credit Card Programs: Corporate card programs come in more than one form to serve different business needs. In general, they are contractual agr eements between a sponsoring enti ty and a financial institution, in which the financial institution issues corporat e cards to select employees of the sponsoring company. The sponsoring entities may take on several forms including small businesses; middle market businesses; local, state, or Federal gov ernments; and large corporations. With this type of program, examiners should determine if the inst itution is allowed to make commercial loans. While most banks are permitted to make commerci al loans, others are prohibited by state law or charter restrictions. Travel and entertainment (T&E) cards are used for business functions such as travel, lodging, and entertainment. The contract identifies t he repayment terms and whether the sponsoring company guarantees the loans. These terms often dictate how the bank sets the credit limits. Procurement cards are used for a business’s pu rchases of materials, office supplies, and miscellaneous items. Businesses are attracted to this product because it simplifies accounting, especially for small-ticket items. Purchase orders are not needed, and only one payables check is necessary. In addition, institutions can prov ide value-added features such as detailed account statements and summary statistical information on purchasing patterns. The ability to provide value-added features is a critical competitiv e factor between institutions. Depending on the needs of the corporation these accounts may have credit limits in the millions of dollars. Corporate card accounts generally pay m onthly; thus, issuing banks normally forego finance charge  which could make past due accounts very co stly to the bank. The primary source of income on these accounts consists of service fees, annual fees, and interchange income. Home Equity Credit Card Programs: Home equity credit cards are secured by housi ng assets. These credit cards provide consumers with the benefits of a traditional home equity line of credit (attractive interest rates and potential tax deductibility) while allowing them quick, easy a ccess to the line’s funds via the credit card. Home equity credit card lending involves a significant amount of documentation due to the mortgages, insurances, and other aspects involved. Points unique to these programs compared to unsecured programs include loan-to-value (LTV) and foreclosure considerations. Cash Secured Credit Card Programs: Cash secured credit cards are generally marketed to two consumers groups: those with poor credit scores or prior credit problems and those with a limited or non-existent credit history. These programs can allow consumer s an opportunity to establish or re-establish their credit. The accounts are collateralized by savings accounts or certificates of deposits. Cash secured credit card lending can be profitable and attractive to institutions because the receivables are self funding, finance charges and fees are high, the collateral is liquid, and new markets are opened. Proprietary Credit Cards Proprietary cards, also called private label ca rds, are issued under a contractual agreement between financial institutions and third partie s, usually large retailers, for the purpose of consumers transacting business with that entity. Some are also issued by the retailers and do not involve a financial institution. Private label cards often exhibit different traits than general purpose cards in that private label cards normally have lower credit limits, higher interest rates, higher credit risk profiles, and limited use (for example, limited to a particular merchant). There is risk of the retail partner failing. While signi ficant direct exposure to the company may not be evident, high losses may still result if cardholde rs do not feel compelled to repay outstanding March 2007 FDIC – Division of Supervision and Consumer Protection 13 Risk Management Examination Manual of Credit Card Activities Chapter II balances. Some customers may not honor obligations due to lost warranties or rights to return merchandise. Others might not repay the debt si mply because the merchant is no longer in business. In either case, the bankruptcy of a reta il partner usually creates a significant collection problem. In addition, credit risk is closely correlated with the traits of the cardholder population which are usually small, niche markets tending to have volatile performance patterns. The credit quality of these populations also tends to be lowe r because there is generally an incentive to establish liberal underwriting standards and enro ll as many applicants as possible to generate business for the retail partner. Cash Access Credit Cards Cash access credit cards are marketed to consumers who tend to prefer cash advances over purchases. These cards are not used for traditional point-of-sale transactions . Cash-users are typically considered a higher-risk population. In some cases these borrowers may be using cash advances to pay debts, including balances on this or other credit cards (this can also be true for some borrowers who use cash advance features of their general purpose cards). Other Types of Bankcards Not all cards issued by banks are credit cards. For example, banks also issue debit cards and prepaid or stored value cards. Examples of stored-value cards include payroll cards, electronic benefits transfer (EBT) cards, travel fund cards, and store gift cards. This manual focuses on credit cards. March 2007 FDIC- Division of Supervision and Consumer Protection 14' metadata={'source': 'clean_text.txt'}\n"
     ]
    }
   ],
   "source": [
    "chroma_q1 = db_chroma.similarity_search(query1)\n",
    "print(chroma_q1[0])"
   ]
  },
  {
   "cell_type": "code",
   "execution_count": 24,
   "id": "9b4ccb74",
   "metadata": {
    "collapsed": true
   },
   "outputs": [
    {
     "name": "stderr",
     "output_type": "stream",
     "text": [
      "Number of requested results 4 is greater than number of elements in index 1, updating n_results = 1\n"
     ]
    },
    {
     "name": "stdout",
     "output_type": "stream",
     "text": [
      "page_content='Risk Management Examination Manual of Credit Card Activities Chapter II II. CREDIT CARDS – GENERAL OVERVIEW WHAT IS A CREDIT CARD In its non-physical form, a credit card repres ents a payment mechanism which facilitates both consumer and commercial business transactions, including purchases and cash advances . A credit card generally operates as a substitute for cash or a check and most often provides an unsecured revolving line of credit. The borrower is required to pay at least part of the card’s outstanding balance each billing cycl  depending on the terms as set forth in the cardholder agreement . As the debt reduces, the available credit increases for accounts in good standing. These complex financial arrangements have ever-shifting terms and prices. A charge card differs from a credit card in that the charge card must be paid in full each month. In physical form, a credit card traditionally is a thi  rectangular plastic card. The front of the card contains a series of numbers that are repres entative of various items such as the applicable network, bank, and account. These numbers are generally referred to in aggregate as the account number or card number. A magnetic stripe, often called a magstripe, runs across the back of the card and contains some of the account’s information electronically. The back of the card also contains a cardholder signature box. There are many other physical attributes to a credit card; however, as technologies progress, their physical form is morphing. For example, multi-application cards (sometimes referred to as smart cards) involve aspects of cryptography (secret codes) and, in place of the magstripe, have a microprocessor, or chip, built into the card. The enhanced memory and processing capacity great ly exceeds that of the traditional magstripe card, and the multi-application cards can enable co nsumers to access several financial accounts and other services or data (like merchant loyalty programs) with a single card. Emerging formats also include contactless and biometric payment options. With the contactless payment format, cards are tapped on readers (instead of swiped) at the point-of-sale. This format is also known as proximity, “tap ‘n go,” or blink technology. The biometric format relies on a cardholder’s physical or biological features by using identificat ion techniques like fingerprint verification, iris scans, or voice scans. Electr onic payment innovations may well be only in their infancy. INDUSTRY HISTORY The credit card lending business experiences rapid change, but not just in the technology environment. New competitors continue to emer ge from not only the banking industry, but from phone companies, retailers and others. At the same time, consolidation among credit card issuers has also increased. For example, during a four-month period in 2005, the three largest monoline credit card banks (MBNA, Capital One Financial Corporation, and Providian) all announced some type of acquisition transactions.1 The credit card industry’s focus has shifted from prestige to merchant acceptance to prici ng and perks. Intense competition, market saturation, and changing consumer postures hav e forced issuers to be innovative with the credit card products offered and to develop sophist icated customer selection and management methods. Processes have evolved to risk ranking applicants and pricing each account accordingly. Risk-based pricing has allowed banks to issue cards to less-qualified applicants in exchange for a higher interest rate or other fees and to essentially offer customized card products. Rewards programs are extremely popular, and credit cards can now be used to purchase items in well over 100 currencies. 1 According to an article entitled “Overview of Recent Devel opments in the Credit Card Industry” found in the November 2005 issue of the FDIC Banking Review and authored by Dougl as Akers, Jay Golter, Brian Lamm, and Martha Solt. March 2007 FDIC- Division of Supervision and Consumer Protection 10Credit Cards – General Overview Visa and MasterCard (together referred to as Associations ) quickly come to mind when the term “credit card” is used. Traditionally banks purch ased memberships in the Associations, and, in return, receive the right to offer credit card products or other services under the applicable Association’s logo.2 In addition to operating worldwide sophisticated payment networks, the Associations provide services including, but not limited to, advertising, statistical analysis, industry studies, and advisory services. They require their member banks to be insured and to operate within certain policies. The Associations do not issue cards or financial services directly to consumers or merchants. Rather, th ey focus on advancing payment products and technologies for their member banks, and the member banks manage the relationships with consumers and merchants. The Associations offer various membership grades, which can be subject to certain requirements, such as capital levels or acceptable growth projections. While the Associations remain the prominent br ands in the bank credit card industry, other brands, such as American Express and Discov er, are challenging their share. Unlike the Associations, American Express and Discover tr aditionally both issued their own cards. While they have long been in the credit card business, they only recently expanded their access within the bank credit card business as a result of cour t rulings in 2004. Those rulings said that the Associations’ policies barring member banks from contracting with American Express and Discover violated antitrust rules. The rulings have not only resulted in some Visa and MasterCard banks now also offering American Express and /or Discover cards, but are also leading to dual-branding . For simplicity, MasterCard, Visa, American Express, and Discover are collectively referred to as Networks in this m anual. The term Networks is used because these companies interconnect a large and widely-distributed group of people and entities to communicate with one another and work together as a system to facilitate card transactions. The system allows for the routing of a transaction’s in formation between the participants in a matter of fractions of a second. Payment systems for credi t cards are discussed in Chapter XIX, Merchant Processing. The legal and regulatory environment for the bank credit card industry continues to shape the industry as well. For instance, in the 1970’s, the U.S. Supreme Court ruled that the lender’s location, not the consumer’s state of residence, determined the applicable state usury ceiling. As a result, large card issuers have sought out states with lender-friendly usury ceilings in which to establish national operations. For example, se veral bank credit card operations are located in South Dakota and Delaware. The 1970’s also saw Congress enact a number of consumer credit protection laws. More recent banking regulatory developments include the issuance of subprime lending guidance in 1999 and 2001 and account management and loss allowance guidance in 2003. 3 Concepts from these documents are discussed throughout this manual. CARD TYPES AND ATTRIBUTES A multitude of credit card products are availabl e to consumers, and the number of products is growing. Terms and conditions of each credit card product offered, such as the Annual Percentage Rate (APR  the monthly minimum payment formula, and certain fees, are detailed in a cardholder agreement which is required by regulation. The following sections provide an overview of some common credit card product categories. 2 MasterCard became a private, SEC-registered share compan y whose shares were owned by the principal members of MasterCard International in 2002, and in May 2006 it announced an initial public offering and began trading on the New York Stock Exchange under the symbol “MA.” 3 March 1, 1999 Interagency Guidance on Subprime Lending (FIL-20-99); January 31, 2001 DSC Memorandum Transmittal Number 01-005 Expanded Guidance for Evaluat ing Subprime Lending Guidance (FIL-9-2001); and January 8, 2003 Account Management and Loss Allowance Guidance for Credit Card Lending (FIL-2-2003). March 2007 FDIC – Division of Supervision and Consumer Protection 11 Risk Management Examination Manual of Credit Card Activities Chapter II General Purpose Credit Cards General purpose, or universal, credit cards can be used at a variety of stores and businesses. They take on many forms, including standard, pr emium, affinity, co-branded, corporate, home equity, and cash secured programs, each of which is briefly described next. Standard Credit Card Programs: Standard credit card programs are a traditional form of credit card issuance. These programs are usually marketed to consumers who meet or exceed the institution’s minimum credit criteria but that may lack sufficient credit history or may fa il to meet some of the institution’s other credit criteria. Due to the higher credit risk and loss rates, these programs generally carry higher interest rates, higher fees, and lower credit limits than premium credit card programs. In addition to cash secured credit cards (discussed la ter), unsecured standard credit card programs are frequently used for providing credit to subprime borrowers. Premium Credit Card Programs: Premium credit card programs tend to be market ed to consumers that have higher income and/or higher credit scores than those consumers offered standard credit cards. Premium programs have traditionally consisted of gold and platinum credit cards. However, some issuers have moved toward using these premium-sounding titles with more standard-type products to combat strong competition and entice consumers to opt fo r their cards. Premium credit card programs usually carry lower interest rates, waived annual fe es, and higher credit limits. The risk with this type of program is a large volume of high-bal ance accounts. Over-reliance on the premium sector creates the potential of greater losses in the event high outstanding balances exist during an economic downturn. Affinity Credit Card Programs: Affinity relationships are partnerships formed between financial institutions and unaffiliated groups (affinity partners), generally nonprofit or ganizations such as, but not limited to, alumni associations, professional organizations, and f an clubs. A contractual agreement governs the relationship with the affinity partner, and the affinity cards issued usually carry the affinity partner’s logo. Compensation varies, but the affinity partner endorsing the card usually receives financial compensation based on the projected leve l of acceptance and use by its members. Compensation often comes in the form of the sharing of annual fees, renewal fees, interchange income, and interest income. Issuers seek affinity endorsements to increase response, usage, and retention rates. Co-branded Credit Card Programs: Co-branded relationships are partnerships formed between finan cial institutions and unaffiliated organizations, generally for-profit organizations such as airlines, automobile manufactures, and retailers. Similar to the affinity program, a contractual agreement governs the co-branded relationship, and the co-branded card usually carries the co-branded partner’s logo. Compensation to the co-branding partner often takes the form of sharing interchange fees and/or rebates to its customers. Rebates to customers are normally based on a percentage of purchases or transactions, and the percent age often varies depending on whether purchases were made with the co-branding party or another entity. The institution benefits from a co- branding arrangement because it generally increase s credit card receivables, and accordingly interest and interchange income, due to the consumers’ willingness to use the credit card more frequently to reap the financial rewards. However, institutions typically face the risk that higher cardholder monthly payment rates could erode profits. Nevertheless, for some programs the considerable volume of interchange income generated by high cardholder transaction volumes might substantially offset the interest income oppo rtunity that is lost with higher payment rates. March 2007 FDIC- Division of Supervision and Consumer Protection 12Credit Cards – General Overview Corporate Credit Card Programs: Corporate card programs come in more than one form to serve different business needs. In general, they are contractual agr eements between a sponsoring enti ty and a financial institution, in which the financial institution issues corporat e cards to select employees of the sponsoring company. The sponsoring entities may take on several forms including small businesses; middle market businesses; local, state, or Federal gov ernments; and large corporations. With this type of program, examiners should determine if the inst itution is allowed to make commercial loans. While most banks are permitted to make commerci al loans, others are prohibited by state law or charter restrictions. Travel and entertainment (T&E) cards are used for business functions such as travel, lodging, and entertainment. The contract identifies t he repayment terms and whether the sponsoring company guarantees the loans. These terms often dictate how the bank sets the credit limits. Procurement cards are used for a business’s pu rchases of materials, office supplies, and miscellaneous items. Businesses are attracted to this product because it simplifies accounting, especially for small-ticket items. Purchase orders are not needed, and only one payables check is necessary. In addition, institutions can prov ide value-added features such as detailed account statements and summary statistical information on purchasing patterns. The ability to provide value-added features is a critical competitiv e factor between institutions. Depending on the needs of the corporation these accounts may have credit limits in the millions of dollars. Corporate card accounts generally pay m onthly; thus, issuing banks normally forego finance charge  which could make past due accounts very co stly to the bank. The primary source of income on these accounts consists of service fees, annual fees, and interchange income. Home Equity Credit Card Programs: Home equity credit cards are secured by housi ng assets. These credit cards provide consumers with the benefits of a traditional home equity line of credit (attractive interest rates and potential tax deductibility) while allowing them quick, easy a ccess to the line’s funds via the credit card. Home equity credit card lending involves a significant amount of documentation due to the mortgages, insurances, and other aspects involved. Points unique to these programs compared to unsecured programs include loan-to-value (LTV) and foreclosure considerations. Cash Secured Credit Card Programs: Cash secured credit cards are generally marketed to two consumers groups: those with poor credit scores or prior credit problems and those with a limited or non-existent credit history. These programs can allow consumer s an opportunity to establish or re-establish their credit. The accounts are collateralized by savings accounts or certificates of deposits. Cash secured credit card lending can be profitable and attractive to institutions because the receivables are self funding, finance charges and fees are high, the collateral is liquid, and new markets are opened. Proprietary Credit Cards Proprietary cards, also called private label ca rds, are issued under a contractual agreement between financial institutions and third partie s, usually large retailers, for the purpose of consumers transacting business with that entity. Some are also issued by the retailers and do not involve a financial institution. Private label cards often exhibit different traits than general purpose cards in that private label cards normally have lower credit limits, higher interest rates, higher credit risk profiles, and limited use (for example, limited to a particular merchant). There is risk of the retail partner failing. While signi ficant direct exposure to the company may not be evident, high losses may still result if cardholde rs do not feel compelled to repay outstanding March 2007 FDIC – Division of Supervision and Consumer Protection 13 Risk Management Examination Manual of Credit Card Activities Chapter II balances. Some customers may not honor obligations due to lost warranties or rights to return merchandise. Others might not repay the debt si mply because the merchant is no longer in business. In either case, the bankruptcy of a reta il partner usually creates a significant collection problem. In addition, credit risk is closely correlated with the traits of the cardholder population which are usually small, niche markets tending to have volatile performance patterns. The credit quality of these populations also tends to be lowe r because there is generally an incentive to establish liberal underwriting standards and enro ll as many applicants as possible to generate business for the retail partner. Cash Access Credit Cards Cash access credit cards are marketed to consumers who tend to prefer cash advances over purchases. These cards are not used for traditional point-of-sale transactions . Cash-users are typically considered a higher-risk population. In some cases these borrowers may be using cash advances to pay debts, including balances on this or other credit cards (this can also be true for some borrowers who use cash advance features of their general purpose cards). Other Types of Bankcards Not all cards issued by banks are credit cards. For example, banks also issue debit cards and prepaid or stored value cards. Examples of stored-value cards include payroll cards, electronic benefits transfer (EBT) cards, travel fund cards, and store gift cards. This manual focuses on credit cards. March 2007 FDIC- Division of Supervision and Consumer Protection 14' metadata={'source': 'clean_text.txt'}\n"
     ]
    }
   ],
   "source": [
    "chroma_q2 = db_chroma.similarity_search(query2)\n",
    "print(chroma_q2[0])"
   ]
  },
  {
   "cell_type": "code",
   "execution_count": 25,
   "id": "0cc3772c",
   "metadata": {},
   "outputs": [
    {
     "data": {
      "text/plain": [
       "\" Dual branding is a process in which Visa and MasterCard banks also offer American Express and/or Discover cards. This was enabled by court rulings in 2004 that said the Associations' policies barring member banks from contracting with American Express and Discover violated antitrust rules.\""
      ]
     },
     "execution_count": 25,
     "metadata": {},
     "output_type": "execute_result"
    }
   ],
   "source": [
    "chain.run(input_documents = chroma_q2, question = query2)"
   ]
  },
  {
   "cell_type": "code",
   "execution_count": null,
   "id": "5394ab71",
   "metadata": {},
   "outputs": [],
   "source": [
    "query_custom = \"What are the benefits of risk-based pricing\"\n",
    "db_chroma1 = Chroma.from_documents(documents=docs1, embedding=embeddings, collection_metadata={\"hnsw:space\": \"ip\"})\n",
    "chroma_cos = db_chroma1.similarity_search(query_custom)"
   ]
  },
  {
   "cell_type": "code",
   "execution_count": null,
   "id": "6726527c",
   "metadata": {},
   "outputs": [],
   "source": [
    "try:\n",
    "    docsearch = Chroma.from_documents(documents=docs1, embedding=embedding_function)\n",
    "except InvalidDimensionException:\n",
    "    Chroma().delete_collection()\n",
    "    docsearch = Chroma.from_documents(documents=docs1, embedding=embedding_function)"
   ]
  },
  {
   "cell_type": "markdown",
   "id": "08657588",
   "metadata": {},
   "source": [
    "#### Pinecone"
   ]
  },
  {
   "cell_type": "markdown",
   "id": "94ead327",
   "metadata": {},
   "source": [
    "##### OpenAI API key + Pinecone API\n",
    "Certificate > Add certificate in Windows\n",
    "\n",
    "python -m pip install --upgrade certifi\n",
    "\n",
    "proxy setup check\n"
   ]
  },
  {
   "cell_type": "code",
   "execution_count": 58,
   "id": "c771cf50",
   "metadata": {},
   "outputs": [],
   "source": [
    "from langchain.embeddings.openai import OpenAIEmbeddings\n",
    "from langchain.vectorstores import Pinecone\n",
    "import pinecone"
   ]
  },
  {
   "cell_type": "code",
   "execution_count": 28,
   "id": "1813447f",
   "metadata": {},
   "outputs": [],
   "source": [
    "# pinecone.init(api_key=\"*****\", environment=\"***\")"
   ]
  },
  {
   "cell_type": "code",
   "execution_count": 80,
   "id": "cf1ebcc1",
   "metadata": {},
   "outputs": [],
   "source": [
    "index_name = \"firstdemo\"\n",
    "if index_name not in pinecone.list_indexes():\n",
    "    pinecone.create_index(name = index_name, metric= \"euclidean\", dimension = 1536)"
   ]
  },
  {
   "cell_type": "code",
   "execution_count": 81,
   "id": "8a621d34",
   "metadata": {},
   "outputs": [],
   "source": [
    "db_pinecone = Pinecone.from_documents(docs1, embeddings, index_name = \"firstdemo\")\n",
    "# pc_q2 = db_pinecone.similarity_search(query2)\n",
    "# chain.run(input_documents = pc_q2, question = query2)"
   ]
  },
  {
   "cell_type": "markdown",
   "id": "8ea81020",
   "metadata": {},
   "source": [
    "#### Max Marginal relevance\n",
    "**Marginal relevance** = relevance of the document to the query - similarity of the document to the documents that have already been retrieved\n",
    "\n",
    "**Relevance of doc to query** = similarity metric. E.g., Cosine similarity\n",
    "\n",
    "**Similarity of a document to the documents that have already been retrieved** = Distance metric. E.g., Euclidean distance\n",
    "\n",
    "Denoted by **λ** Ranges between 0 and 1: \n",
    "λ close to 1 Emphasis on relevance, λ close to 0 emphasis on diversity."
   ]
  },
  {
   "cell_type": "markdown",
   "id": "7c150850",
   "metadata": {},
   "source": [
    "#### Pros & cons\n",
    "Pros:\n",
    "Trade off between  relevance and diversity.\n",
    "Relatively simple to implement\n",
    "Proven effective in a variety of retrieval tasks\n",
    "\n",
    "Cons:\n",
    "Computationally expensive to calculate the marginal relevance of all documents\n",
    "Sensitive to the choice of the similarity metric and the distance metric."
   ]
  },
  {
   "cell_type": "code",
   "execution_count": 82,
   "id": "5812cb22",
   "metadata": {},
   "outputs": [],
   "source": [
    "### Search for MMR\n",
    "\"\"\"\n",
    "    k = No of docs to return, defaults 4\n",
    "    fetch_k = No of docs to be passed for MMR, defaults 20\n",
    "\"\"\"\n",
    "\n",
    "mmr_docs = db_pinecone.max_marginal_relevance_search(query2, k=2, fetch_k=10) \n",
    "for i, doc in enumerate(mmr_docs):\n",
    "    print(f\"{i + 1}.\", doc.page_content, \"\\n\")"
   ]
  },
  {
   "cell_type": "code",
   "execution_count": 83,
   "id": "cef6ae61",
   "metadata": {},
   "outputs": [
    {
     "data": {
      "text/plain": [
       "'\\n\\nBiometric format is a type of authentication system that uses physical characteristics, such as fingerprints, eye scans, or facial recognition, to verify the identity of a user.'"
      ]
     },
     "execution_count": 83,
     "metadata": {},
     "output_type": "execute_result"
    }
   ],
   "source": [
    "query_mmr = \"What is biometric format\"\n",
    "chain.run(input_documents = mmr_docs, question = query_mmr) ###Max Marginal Relevance"
   ]
  },
  {
   "cell_type": "code",
   "execution_count": 84,
   "id": "1b326624",
   "metadata": {},
   "outputs": [
    {
     "data": {
      "text/plain": [
       "\" Biometric format is a type of identification technique that relies on a cardholder's physical or biological features, such as fingerprints, iris scans, or voice scans.\""
      ]
     },
     "execution_count": 84,
     "metadata": {},
     "output_type": "execute_result"
    }
   ],
   "source": [
    "pc_q2 = db_pinecone.similarity_search(query_mmr)\n",
    "chain.run(input_documents = pc_q2, question = query_mmr) ###Cosine similarity"
   ]
  },
  {
   "cell_type": "markdown",
   "id": "8a89cecb",
   "metadata": {},
   "source": [
    "### Appendix"
   ]
  },
  {
   "cell_type": "markdown",
   "id": "14a791de",
   "metadata": {},
   "source": [
    "#### Cosine similarity"
   ]
  },
  {
   "cell_type": "code",
   "execution_count": null,
   "id": "84a601e9",
   "metadata": {},
   "outputs": [],
   "source": [
    "import math\n",
    "\n",
    "def euclidean_distance(x1, y1, x2, y2):\n",
    "    return math.sqrt(((x2 - x1) ** 2) - ((y2 - y1) ** 2))\n",
    "\n",
    "euclidean_distance(5,4,30,25)"
   ]
  },
  {
   "cell_type": "markdown",
   "id": "5ef42937",
   "metadata": {},
   "source": [
    "#### Euclidean distance"
   ]
  },
  {
   "cell_type": "code",
   "execution_count": null,
   "id": "2c2f2f7d",
   "metadata": {},
   "outputs": [],
   "source": [
    "def cosine_similarity(vector1, vector2):\n",
    "    sum_of_products = 0\n",
    "    magnitude1 = 0\n",
    "    magnitude2 = 0\n",
    "\n",
    "    for i in range(len(vector1)):\n",
    "        sum_of_products += vector1[i] * vector2[i]\n",
    "        magnitude1 += vector1[i] ** 2\n",
    "        magnitude2 += vector2[i] ** 2\n",
    "\n",
    "    if magnitude1 == 0 or magnitude2 == 0:\n",
    "        return 0\n",
    "\n",
    "    return sum_of_products / (math.sqrt(magnitude1) * math.sqrt(magnitude2))"
   ]
  },
  {
   "cell_type": "code",
   "execution_count": null,
   "id": "bc6a6a60",
   "metadata": {},
   "outputs": [],
   "source": [
    "u = [1, 2, 4]\n",
    "v = [2, 3, 20]\n",
    "cosine_similarity(u, v)"
   ]
  },
  {
   "cell_type": "code",
   "execution_count": null,
   "id": "8f8c3f8d",
   "metadata": {},
   "outputs": [],
   "source": []
  }
 ],
 "metadata": {
  "kernelspec": {
   "display_name": "Python 3 (ipykernel)",
   "language": "python",
   "name": "python3"
  },
  "language_info": {
   "codemirror_mode": {
    "name": "ipython",
    "version": 3
   },
   "file_extension": ".py",
   "mimetype": "text/x-python",
   "name": "python",
   "nbconvert_exporter": "python",
   "pygments_lexer": "ipython3",
   "version": "3.11.4"
  }
 },
 "nbformat": 4,
 "nbformat_minor": 5
}
